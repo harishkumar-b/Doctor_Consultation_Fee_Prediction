{
 "cells": [
  {
   "cell_type": "markdown",
   "id": "7cf39abb",
   "metadata": {},
   "source": [
    "### Importing required libraries and reading CSV"
   ]
  },
  {
   "cell_type": "code",
   "execution_count": 1,
   "id": "ce5e567d",
   "metadata": {},
   "outputs": [],
   "source": [
    "import pandas as pd\n",
    "import numpy as np\n",
    "import seaborn as sns\n",
    "import matplotlib.pyplot as plt"
   ]
  },
  {
   "cell_type": "code",
   "execution_count": 2,
   "id": "fccd3b97",
   "metadata": {
    "scrolled": true
   },
   "outputs": [
    {
     "data": {
      "text/html": [
       "<div>\n",
       "<style scoped>\n",
       "    .dataframe tbody tr th:only-of-type {\n",
       "        vertical-align: middle;\n",
       "    }\n",
       "\n",
       "    .dataframe tbody tr th {\n",
       "        vertical-align: top;\n",
       "    }\n",
       "\n",
       "    .dataframe thead th {\n",
       "        text-align: right;\n",
       "    }\n",
       "</style>\n",
       "<table border=\"1\" class=\"dataframe\">\n",
       "  <thead>\n",
       "    <tr style=\"text-align: right;\">\n",
       "      <th></th>\n",
       "      <th>dr_name</th>\n",
       "      <th>speciality</th>\n",
       "      <th>qualification</th>\n",
       "      <th>years_of_experience</th>\n",
       "      <th>location</th>\n",
       "      <th>city</th>\n",
       "      <th>dp_score%</th>\n",
       "      <th>npv</th>\n",
       "      <th>consultation_fee_₹</th>\n",
       "      <th>additional_qualification</th>\n",
       "    </tr>\n",
       "  </thead>\n",
       "  <tbody>\n",
       "    <tr>\n",
       "      <th>3510</th>\n",
       "      <td>Dr. Uma Mallaiah</td>\n",
       "      <td>Ophthalmologist</td>\n",
       "      <td>MBBS</td>\n",
       "      <td>28.0</td>\n",
       "      <td>Greater Kailash Part 2</td>\n",
       "      <td>Delhi</td>\n",
       "      <td>50.0</td>\n",
       "      <td>1.0</td>\n",
       "      <td>1500.0</td>\n",
       "      <td>DO</td>\n",
       "    </tr>\n",
       "    <tr>\n",
       "      <th>4120</th>\n",
       "      <td>Dr. Reshma Shah</td>\n",
       "      <td>Dentist</td>\n",
       "      <td>BDS</td>\n",
       "      <td>24.0</td>\n",
       "      <td>Mumbai</td>\n",
       "      <td>Mumbai</td>\n",
       "      <td>99.0</td>\n",
       "      <td>73.0</td>\n",
       "      <td>500.0</td>\n",
       "      <td>Not Applicable</td>\n",
       "    </tr>\n",
       "    <tr>\n",
       "      <th>975</th>\n",
       "      <td>Dr. Anjana Hulse</td>\n",
       "      <td>Pediatrician</td>\n",
       "      <td>MBBS</td>\n",
       "      <td>20.0</td>\n",
       "      <td>Bannerghatta Road</td>\n",
       "      <td>Bangalore</td>\n",
       "      <td>99.0</td>\n",
       "      <td>102.0</td>\n",
       "      <td>850.0</td>\n",
       "      <td>Member of the Royal College of Paediatrics and...</td>\n",
       "    </tr>\n",
       "    <tr>\n",
       "      <th>4994</th>\n",
       "      <td>Dr. Rajiv Anand</td>\n",
       "      <td>Psychiatrist</td>\n",
       "      <td>MBBS</td>\n",
       "      <td>46.0</td>\n",
       "      <td>Andheri West</td>\n",
       "      <td>Mumbai</td>\n",
       "      <td>93.0</td>\n",
       "      <td>247.0</td>\n",
       "      <td>2000.0</td>\n",
       "      <td>M.D. (Psychiatry)</td>\n",
       "    </tr>\n",
       "    <tr>\n",
       "      <th>3086</th>\n",
       "      <td>Dr. Vinod Sukhijha</td>\n",
       "      <td>Orthopedist</td>\n",
       "      <td>MBBS</td>\n",
       "      <td>47.0</td>\n",
       "      <td>Sarita Vihar</td>\n",
       "      <td>Delhi</td>\n",
       "      <td>100.0</td>\n",
       "      <td>1.0</td>\n",
       "      <td>1500.0</td>\n",
       "      <td>MS</td>\n",
       "    </tr>\n",
       "  </tbody>\n",
       "</table>\n",
       "</div>"
      ],
      "text/plain": [
       "                 dr_name       speciality qualification  years_of_experience  \\\n",
       "3510    Dr. Uma Mallaiah  Ophthalmologist          MBBS                 28.0   \n",
       "4120     Dr. Reshma Shah          Dentist           BDS                 24.0   \n",
       "975     Dr. Anjana Hulse     Pediatrician          MBBS                 20.0   \n",
       "4994     Dr. Rajiv Anand     Psychiatrist          MBBS                 46.0   \n",
       "3086  Dr. Vinod Sukhijha      Orthopedist          MBBS                 47.0   \n",
       "\n",
       "                    location       city  dp_score%    npv  consultation_fee_₹  \\\n",
       "3510  Greater Kailash Part 2      Delhi       50.0    1.0              1500.0   \n",
       "4120                  Mumbai     Mumbai       99.0   73.0               500.0   \n",
       "975        Bannerghatta Road  Bangalore       99.0  102.0               850.0   \n",
       "4994            Andheri West     Mumbai       93.0  247.0              2000.0   \n",
       "3086            Sarita Vihar      Delhi      100.0    1.0              1500.0   \n",
       "\n",
       "                               additional_qualification  \n",
       "3510                                                 DO  \n",
       "4120                                     Not Applicable  \n",
       "975   Member of the Royal College of Paediatrics and...  \n",
       "4994                                  M.D. (Psychiatry)  \n",
       "3086                                                 MS  "
      ]
     },
     "execution_count": 2,
     "metadata": {},
     "output_type": "execute_result"
    }
   ],
   "source": [
    "dr = pd.read_csv('cleaned_practo_doctors.csv')\n",
    "dr.sample(5)"
   ]
  },
  {
   "cell_type": "markdown",
   "id": "d41a4b56",
   "metadata": {},
   "source": [
    "### Dropping unnecessary columns"
   ]
  },
  {
   "cell_type": "code",
   "execution_count": 3,
   "id": "11182e83",
   "metadata": {},
   "outputs": [],
   "source": [
    "dr.drop('dr_name', axis='columns',inplace=True)"
   ]
  },
  {
   "cell_type": "code",
   "execution_count": 4,
   "id": "ad88e722",
   "metadata": {},
   "outputs": [],
   "source": [
    "dr.drop('additional_qualification', axis='columns',inplace=True)"
   ]
  },
  {
   "cell_type": "code",
   "execution_count": 5,
   "id": "be26e11a",
   "metadata": {},
   "outputs": [
    {
     "data": {
      "text/html": [
       "<div>\n",
       "<style scoped>\n",
       "    .dataframe tbody tr th:only-of-type {\n",
       "        vertical-align: middle;\n",
       "    }\n",
       "\n",
       "    .dataframe tbody tr th {\n",
       "        vertical-align: top;\n",
       "    }\n",
       "\n",
       "    .dataframe thead th {\n",
       "        text-align: right;\n",
       "    }\n",
       "</style>\n",
       "<table border=\"1\" class=\"dataframe\">\n",
       "  <thead>\n",
       "    <tr style=\"text-align: right;\">\n",
       "      <th></th>\n",
       "      <th>speciality</th>\n",
       "      <th>qualification</th>\n",
       "      <th>years_of_experience</th>\n",
       "      <th>location</th>\n",
       "      <th>city</th>\n",
       "      <th>dp_score%</th>\n",
       "      <th>npv</th>\n",
       "      <th>consultation_fee_₹</th>\n",
       "    </tr>\n",
       "  </thead>\n",
       "  <tbody>\n",
       "    <tr>\n",
       "      <th>0</th>\n",
       "      <td>Dentist</td>\n",
       "      <td>BDS</td>\n",
       "      <td>26.0</td>\n",
       "      <td>Basavanagudi</td>\n",
       "      <td>Bangalore</td>\n",
       "      <td>97.0</td>\n",
       "      <td>119.0</td>\n",
       "      <td>450.0</td>\n",
       "    </tr>\n",
       "    <tr>\n",
       "      <th>1</th>\n",
       "      <td>Dentist</td>\n",
       "      <td>BDS</td>\n",
       "      <td>32.0</td>\n",
       "      <td>Domlur</td>\n",
       "      <td>Bangalore</td>\n",
       "      <td>93.0</td>\n",
       "      <td>16.0</td>\n",
       "      <td>300.0</td>\n",
       "    </tr>\n",
       "    <tr>\n",
       "      <th>2</th>\n",
       "      <td>Dentist</td>\n",
       "      <td>BDS</td>\n",
       "      <td>22.0</td>\n",
       "      <td>Jayanagar 9 Block</td>\n",
       "      <td>Bangalore</td>\n",
       "      <td>97.0</td>\n",
       "      <td>96.0</td>\n",
       "      <td>650.0</td>\n",
       "    </tr>\n",
       "    <tr>\n",
       "      <th>3</th>\n",
       "      <td>Dentist</td>\n",
       "      <td>BDS</td>\n",
       "      <td>21.0</td>\n",
       "      <td>Jayanagar 9 Block</td>\n",
       "      <td>Bangalore</td>\n",
       "      <td>98.0</td>\n",
       "      <td>153.0</td>\n",
       "      <td>650.0</td>\n",
       "    </tr>\n",
       "    <tr>\n",
       "      <th>4</th>\n",
       "      <td>Dentist</td>\n",
       "      <td>BDS</td>\n",
       "      <td>13.0</td>\n",
       "      <td>Banaswadi</td>\n",
       "      <td>Bangalore</td>\n",
       "      <td>100.0</td>\n",
       "      <td>81.0</td>\n",
       "      <td>400.0</td>\n",
       "    </tr>\n",
       "    <tr>\n",
       "      <th>...</th>\n",
       "      <td>...</td>\n",
       "      <td>...</td>\n",
       "      <td>...</td>\n",
       "      <td>...</td>\n",
       "      <td>...</td>\n",
       "      <td>...</td>\n",
       "      <td>...</td>\n",
       "      <td>...</td>\n",
       "    </tr>\n",
       "    <tr>\n",
       "      <th>5154</th>\n",
       "      <td>Rheumatologist</td>\n",
       "      <td>MBBS</td>\n",
       "      <td>17.0</td>\n",
       "      <td>Mumbai</td>\n",
       "      <td>Mumbai</td>\n",
       "      <td>0.0</td>\n",
       "      <td>0.0</td>\n",
       "      <td>500.0</td>\n",
       "    </tr>\n",
       "    <tr>\n",
       "      <th>5155</th>\n",
       "      <td>Rheumatologist</td>\n",
       "      <td>MBBS</td>\n",
       "      <td>40.0</td>\n",
       "      <td>Mumbai</td>\n",
       "      <td>Mumbai</td>\n",
       "      <td>91.0</td>\n",
       "      <td>6.0</td>\n",
       "      <td>2500.0</td>\n",
       "    </tr>\n",
       "    <tr>\n",
       "      <th>5156</th>\n",
       "      <td>Rheumatologist</td>\n",
       "      <td>Others</td>\n",
       "      <td>7.0</td>\n",
       "      <td>Mumbai</td>\n",
       "      <td>Mumbai</td>\n",
       "      <td>0.0</td>\n",
       "      <td>0.0</td>\n",
       "      <td>1500.0</td>\n",
       "    </tr>\n",
       "    <tr>\n",
       "      <th>5157</th>\n",
       "      <td>Chiropractor</td>\n",
       "      <td>Others</td>\n",
       "      <td>20.0</td>\n",
       "      <td>Mumbai</td>\n",
       "      <td>Mumbai</td>\n",
       "      <td>100.0</td>\n",
       "      <td>302.0</td>\n",
       "      <td>3000.0</td>\n",
       "    </tr>\n",
       "    <tr>\n",
       "      <th>5158</th>\n",
       "      <td>Chiropractor</td>\n",
       "      <td>MPTh/MPT</td>\n",
       "      <td>2.0</td>\n",
       "      <td>Mumbai</td>\n",
       "      <td>Mumbai</td>\n",
       "      <td>100.0</td>\n",
       "      <td>23.0</td>\n",
       "      <td>800.0</td>\n",
       "    </tr>\n",
       "  </tbody>\n",
       "</table>\n",
       "<p>5159 rows × 8 columns</p>\n",
       "</div>"
      ],
      "text/plain": [
       "          speciality qualification  years_of_experience           location  \\\n",
       "0            Dentist           BDS                 26.0       Basavanagudi   \n",
       "1            Dentist           BDS                 32.0             Domlur   \n",
       "2            Dentist           BDS                 22.0  Jayanagar 9 Block   \n",
       "3            Dentist           BDS                 21.0  Jayanagar 9 Block   \n",
       "4            Dentist           BDS                 13.0          Banaswadi   \n",
       "...              ...           ...                  ...                ...   \n",
       "5154  Rheumatologist          MBBS                 17.0             Mumbai   \n",
       "5155  Rheumatologist          MBBS                 40.0             Mumbai   \n",
       "5156  Rheumatologist        Others                  7.0             Mumbai   \n",
       "5157    Chiropractor        Others                 20.0             Mumbai   \n",
       "5158    Chiropractor      MPTh/MPT                  2.0             Mumbai   \n",
       "\n",
       "           city  dp_score%    npv  consultation_fee_₹  \n",
       "0     Bangalore       97.0  119.0               450.0  \n",
       "1     Bangalore       93.0   16.0               300.0  \n",
       "2     Bangalore       97.0   96.0               650.0  \n",
       "3     Bangalore       98.0  153.0               650.0  \n",
       "4     Bangalore      100.0   81.0               400.0  \n",
       "...         ...        ...    ...                 ...  \n",
       "5154     Mumbai        0.0    0.0               500.0  \n",
       "5155     Mumbai       91.0    6.0              2500.0  \n",
       "5156     Mumbai        0.0    0.0              1500.0  \n",
       "5157     Mumbai      100.0  302.0              3000.0  \n",
       "5158     Mumbai      100.0   23.0               800.0  \n",
       "\n",
       "[5159 rows x 8 columns]"
      ]
     },
     "execution_count": 5,
     "metadata": {},
     "output_type": "execute_result"
    }
   ],
   "source": [
    "dr"
   ]
  },
  {
   "cell_type": "markdown",
   "id": "52aac69b",
   "metadata": {},
   "source": [
    "### EDA"
   ]
  },
  {
   "cell_type": "code",
   "execution_count": 6,
   "id": "0b52ef80",
   "metadata": {},
   "outputs": [
    {
     "data": {
      "text/plain": [
       "<AxesSubplot:xlabel='city', ylabel='count'>"
      ]
     },
     "execution_count": 6,
     "metadata": {},
     "output_type": "execute_result"
    },
    {
     "data": {
      "image/png": "[encoded data removed]",
      "text/plain": [
       "<Figure size 432x288 with 1 Axes>"
      ]
     },
     "metadata": {
      "needs_background": "light"
     },
     "output_type": "display_data"
    }
   ],
   "source": [
    "sns.countplot(x=dr['city'])"
   ]
  },
  {
   "cell_type": "code",
   "execution_count": 7,
   "id": "48cee602",
   "metadata": {},
   "outputs": [
    {
     "data": {
      "text/plain": [
       "<AxesSubplot:xlabel='city'>"
      ]
     },
     "execution_count": 7,
     "metadata": {},
     "output_type": "execute_result"
    },
    {
     "data": {
      "image/png": "[encoded data removed]",
      "text/plain": [
       "<Figure size 432x288 with 1 Axes>"
      ]
     },
     "metadata": {
      "needs_background": "light"
     },
     "output_type": "display_data"
    }
   ],
   "source": [
    "dr['consultation_fee_₹'].groupby(dr['city']).mean().plot(kind='bar')"
   ]
  },
  {
   "cell_type": "code",
   "execution_count": 8,
   "id": "32ada849",
   "metadata": {
    "scrolled": true
   },
   "outputs": [
    {
     "data": {
      "text/plain": [
       "<AxesSubplot:xlabel='count', ylabel='speciality'>"
      ]
     },
     "execution_count": 8,
     "metadata": {},
     "output_type": "execute_result"
    },
    {
     "data": {
      "image/png": "[encoded data removed]",
      "text/plain": [
       "<Figure size 360x360 with 1 Axes>"
      ]
     },
     "metadata": {
      "needs_background": "light"
     },
     "output_type": "display_data"
    }
   ],
   "source": [
    "plt.figure(figsize=(5,5))\n",
    "sns.countplot(y = dr['speciality'])"
   ]
  },
  {
   "cell_type": "code",
   "execution_count": 9,
   "id": "46e6f520",
   "metadata": {},
   "outputs": [
    {
     "data": {
      "text/plain": [
       "<AxesSubplot:xlabel='speciality'>"
      ]
     },
     "execution_count": 9,
     "metadata": {},
     "output_type": "execute_result"
    },
    {
     "data": {
      "image/png": "[encoded data removed]",
      "text/plain": [
       "<Figure size 432x288 with 1 Axes>"
      ]
     },
     "metadata": {
      "needs_background": "light"
     },
     "output_type": "display_data"
    }
   ],
   "source": [
    "dr['consultation_fee_₹'].groupby(dr['speciality']).mean().plot(kind='bar')"
   ]
  },
  {
   "cell_type": "code",
   "execution_count": 10,
   "id": "15d0359a",
   "metadata": {},
   "outputs": [
    {
     "data": {
      "text/html": [
       "<div>\n",
       "<style scoped>\n",
       "    .dataframe tbody tr th:only-of-type {\n",
       "        vertical-align: middle;\n",
       "    }\n",
       "\n",
       "    .dataframe tbody tr th {\n",
       "        vertical-align: top;\n",
       "    }\n",
       "\n",
       "    .dataframe thead th {\n",
       "        text-align: right;\n",
       "    }\n",
       "</style>\n",
       "<table border=\"1\" class=\"dataframe\">\n",
       "  <thead>\n",
       "    <tr style=\"text-align: right;\">\n",
       "      <th></th>\n",
       "      <th>years_of_experience</th>\n",
       "      <th>dp_score%</th>\n",
       "      <th>npv</th>\n",
       "      <th>consultation_fee_₹</th>\n",
       "    </tr>\n",
       "  </thead>\n",
       "  <tbody>\n",
       "    <tr>\n",
       "      <th>count</th>\n",
       "      <td>5159.000000</td>\n",
       "      <td>5159.000000</td>\n",
       "      <td>5159.000000</td>\n",
       "      <td>5159.000000</td>\n",
       "    </tr>\n",
       "    <tr>\n",
       "      <th>mean</th>\n",
       "      <td>19.405311</td>\n",
       "      <td>85.489436</td>\n",
       "      <td>61.893196</td>\n",
       "      <td>819.520450</td>\n",
       "    </tr>\n",
       "    <tr>\n",
       "      <th>std</th>\n",
       "      <td>10.159293</td>\n",
       "      <td>28.857988</td>\n",
       "      <td>132.793529</td>\n",
       "      <td>478.027358</td>\n",
       "    </tr>\n",
       "    <tr>\n",
       "      <th>min</th>\n",
       "      <td>0.000000</td>\n",
       "      <td>0.000000</td>\n",
       "      <td>0.000000</td>\n",
       "      <td>0.000000</td>\n",
       "    </tr>\n",
       "    <tr>\n",
       "      <th>25%</th>\n",
       "      <td>12.000000</td>\n",
       "      <td>90.000000</td>\n",
       "      <td>3.000000</td>\n",
       "      <td>500.000000</td>\n",
       "    </tr>\n",
       "    <tr>\n",
       "      <th>50%</th>\n",
       "      <td>17.000000</td>\n",
       "      <td>97.000000</td>\n",
       "      <td>17.000000</td>\n",
       "      <td>700.000000</td>\n",
       "    </tr>\n",
       "    <tr>\n",
       "      <th>75%</th>\n",
       "      <td>25.000000</td>\n",
       "      <td>100.000000</td>\n",
       "      <td>65.000000</td>\n",
       "      <td>1000.000000</td>\n",
       "    </tr>\n",
       "    <tr>\n",
       "      <th>max</th>\n",
       "      <td>64.000000</td>\n",
       "      <td>100.000000</td>\n",
       "      <td>3223.000000</td>\n",
       "      <td>5000.000000</td>\n",
       "    </tr>\n",
       "  </tbody>\n",
       "</table>\n",
       "</div>"
      ],
      "text/plain": [
       "       years_of_experience    dp_score%          npv  consultation_fee_₹\n",
       "count          5159.000000  5159.000000  5159.000000         5159.000000\n",
       "mean             19.405311    85.489436    61.893196          819.520450\n",
       "std              10.159293    28.857988   132.793529          478.027358\n",
       "min               0.000000     0.000000     0.000000            0.000000\n",
       "25%              12.000000    90.000000     3.000000          500.000000\n",
       "50%              17.000000    97.000000    17.000000          700.000000\n",
       "75%              25.000000   100.000000    65.000000         1000.000000\n",
       "max              64.000000   100.000000  3223.000000         5000.000000"
      ]
     },
     "execution_count": 10,
     "metadata": {},
     "output_type": "execute_result"
    }
   ],
   "source": [
    "dr.describe()"
   ]
  },
  {
   "cell_type": "code",
   "execution_count": 11,
   "id": "30ed3065",
   "metadata": {},
   "outputs": [
    {
     "data": {
      "text/plain": [
       "years_of_experience    0.344676\n",
       "dp_score%             -0.037738\n",
       "npv                   -0.038861\n",
       "consultation_fee_₹     1.000000\n",
       "Name: consultation_fee_₹, dtype: float64"
      ]
     },
     "execution_count": 11,
     "metadata": {},
     "output_type": "execute_result"
    }
   ],
   "source": [
    "dr.corr()['consultation_fee_₹']"
   ]
  },
  {
   "cell_type": "code",
   "execution_count": 12,
   "id": "f0287492",
   "metadata": {},
   "outputs": [
    {
     "data": {
      "text/plain": [
       "<AxesSubplot:>"
      ]
     },
     "execution_count": 12,
     "metadata": {},
     "output_type": "execute_result"
    },
    {
     "data": {
      "image/png": "[encoded data removed]",
      "text/plain": [
       "<Figure size 432x288 with 2 Axes>"
      ]
     },
     "metadata": {
      "needs_background": "light"
     },
     "output_type": "display_data"
    }
   ],
   "source": [
    "sns.heatmap(dr.corr(), annot=True)"
   ]
  },
  {
   "cell_type": "code",
   "execution_count": 13,
   "id": "672da738",
   "metadata": {},
   "outputs": [
    {
     "data": {
      "text/plain": [
       "<AxesSubplot:xlabel='consultation_fee_₹', ylabel='Density'>"
      ]
     },
     "execution_count": 13,
     "metadata": {},
     "output_type": "execute_result"
    },
    {
     "data": {
      "image/png": "[encoded data removed]",
      "text/plain": [
       "<Figure size 432x288 with 1 Axes>"
      ]
     },
     "metadata": {
      "needs_background": "light"
     },
     "output_type": "display_data"
    }
   ],
   "source": [
    "sns.kdeplot(dr['consultation_fee_₹'])"
   ]
  },
  {
   "cell_type": "code",
   "execution_count": 14,
   "id": "71c5b854",
   "metadata": {},
   "outputs": [
    {
     "data": {
      "text/plain": [
       "<AxesSubplot:xlabel='years_of_experience', ylabel='Density'>"
      ]
     },
     "execution_count": 14,
     "metadata": {},
     "output_type": "execute_result"
    },
    {
     "data": {
      "image/png": "[encoded data removed]",
      "text/plain": [
       "<Figure size 432x288 with 1 Axes>"
      ]
     },
     "metadata": {
      "needs_background": "light"
     },
     "output_type": "display_data"
    }
   ],
   "source": [
    "sns.kdeplot(dr['years_of_experience'])"
   ]
  },
  {
   "cell_type": "code",
   "execution_count": 15,
   "id": "c4a86d28",
   "metadata": {},
   "outputs": [
    {
     "data": {
      "text/plain": [
       "<AxesSubplot:xlabel='consultation_fee_₹'>"
      ]
     },
     "execution_count": 15,
     "metadata": {},
     "output_type": "execute_result"
    },
    {
     "data": {
      "image/png": "[encoded data removed]",
      "text/plain": [
       "<Figure size 432x288 with 1 Axes>"
      ]
     },
     "metadata": {
      "needs_background": "light"
     },
     "output_type": "display_data"
    }
   ],
   "source": [
    "sns.boxplot(x = dr['consultation_fee_₹'])"
   ]
  },
  {
   "cell_type": "code",
   "execution_count": 16,
   "id": "218e78c6",
   "metadata": {},
   "outputs": [
    {
     "data": {
      "text/html": [
       "<div>\n",
       "<style scoped>\n",
       "    .dataframe tbody tr th:only-of-type {\n",
       "        vertical-align: middle;\n",
       "    }\n",
       "\n",
       "    .dataframe tbody tr th {\n",
       "        vertical-align: top;\n",
       "    }\n",
       "\n",
       "    .dataframe thead th {\n",
       "        text-align: right;\n",
       "    }\n",
       "</style>\n",
       "<table border=\"1\" class=\"dataframe\">\n",
       "  <thead>\n",
       "    <tr style=\"text-align: right;\">\n",
       "      <th></th>\n",
       "      <th>speciality</th>\n",
       "      <th>qualification</th>\n",
       "      <th>years_of_experience</th>\n",
       "      <th>location</th>\n",
       "      <th>city</th>\n",
       "      <th>dp_score%</th>\n",
       "      <th>npv</th>\n",
       "      <th>consultation_fee_₹</th>\n",
       "    </tr>\n",
       "  </thead>\n",
       "  <tbody>\n",
       "    <tr>\n",
       "      <th>1176</th>\n",
       "      <td>Pediatrician</td>\n",
       "      <td>MBBS</td>\n",
       "      <td>24.0</td>\n",
       "      <td>Richmond Town</td>\n",
       "      <td>Bangalore</td>\n",
       "      <td>100.0</td>\n",
       "      <td>0.0</td>\n",
       "      <td>1600.0</td>\n",
       "    </tr>\n",
       "    <tr>\n",
       "      <th>1910</th>\n",
       "      <td>Psychiatrist</td>\n",
       "      <td>MBBS</td>\n",
       "      <td>44.0</td>\n",
       "      <td>Hebbal</td>\n",
       "      <td>Bangalore</td>\n",
       "      <td>91.0</td>\n",
       "      <td>12.0</td>\n",
       "      <td>2130.0</td>\n",
       "    </tr>\n",
       "    <tr>\n",
       "      <th>1911</th>\n",
       "      <td>Psychiatrist</td>\n",
       "      <td>MBBS</td>\n",
       "      <td>28.0</td>\n",
       "      <td>Whitefield</td>\n",
       "      <td>Bangalore</td>\n",
       "      <td>85.0</td>\n",
       "      <td>8.0</td>\n",
       "      <td>1700.0</td>\n",
       "    </tr>\n",
       "    <tr>\n",
       "      <th>1928</th>\n",
       "      <td>Psychiatrist</td>\n",
       "      <td>MBBS</td>\n",
       "      <td>27.0</td>\n",
       "      <td>Hebbal</td>\n",
       "      <td>Bangalore</td>\n",
       "      <td>85.0</td>\n",
       "      <td>91.0</td>\n",
       "      <td>2830.0</td>\n",
       "    </tr>\n",
       "    <tr>\n",
       "      <th>1935</th>\n",
       "      <td>Psychiatrist</td>\n",
       "      <td>MBBS</td>\n",
       "      <td>22.0</td>\n",
       "      <td>Richmond Town</td>\n",
       "      <td>Bangalore</td>\n",
       "      <td>99.0</td>\n",
       "      <td>81.0</td>\n",
       "      <td>1600.0</td>\n",
       "    </tr>\n",
       "    <tr>\n",
       "      <th>...</th>\n",
       "      <td>...</td>\n",
       "      <td>...</td>\n",
       "      <td>...</td>\n",
       "      <td>...</td>\n",
       "      <td>...</td>\n",
       "      <td>...</td>\n",
       "      <td>...</td>\n",
       "      <td>...</td>\n",
       "    </tr>\n",
       "    <tr>\n",
       "      <th>5139</th>\n",
       "      <td>Pulmonologist</td>\n",
       "      <td>MBBS</td>\n",
       "      <td>14.0</td>\n",
       "      <td>Mahim</td>\n",
       "      <td>Mumbai</td>\n",
       "      <td>100.0</td>\n",
       "      <td>10.0</td>\n",
       "      <td>1800.0</td>\n",
       "    </tr>\n",
       "    <tr>\n",
       "      <th>5147</th>\n",
       "      <td>Rheumatologist</td>\n",
       "      <td>MBBS</td>\n",
       "      <td>29.0</td>\n",
       "      <td>Parel</td>\n",
       "      <td>Mumbai</td>\n",
       "      <td>100.0</td>\n",
       "      <td>0.0</td>\n",
       "      <td>2100.0</td>\n",
       "    </tr>\n",
       "    <tr>\n",
       "      <th>5152</th>\n",
       "      <td>Rheumatologist</td>\n",
       "      <td>MBBS</td>\n",
       "      <td>12.0</td>\n",
       "      <td>Mumbai</td>\n",
       "      <td>Mumbai</td>\n",
       "      <td>90.0</td>\n",
       "      <td>13.0</td>\n",
       "      <td>2000.0</td>\n",
       "    </tr>\n",
       "    <tr>\n",
       "      <th>5155</th>\n",
       "      <td>Rheumatologist</td>\n",
       "      <td>MBBS</td>\n",
       "      <td>40.0</td>\n",
       "      <td>Mumbai</td>\n",
       "      <td>Mumbai</td>\n",
       "      <td>91.0</td>\n",
       "      <td>6.0</td>\n",
       "      <td>2500.0</td>\n",
       "    </tr>\n",
       "    <tr>\n",
       "      <th>5157</th>\n",
       "      <td>Chiropractor</td>\n",
       "      <td>Others</td>\n",
       "      <td>20.0</td>\n",
       "      <td>Mumbai</td>\n",
       "      <td>Mumbai</td>\n",
       "      <td>100.0</td>\n",
       "      <td>302.0</td>\n",
       "      <td>3000.0</td>\n",
       "    </tr>\n",
       "  </tbody>\n",
       "</table>\n",
       "<p>312 rows × 8 columns</p>\n",
       "</div>"
      ],
      "text/plain": [
       "          speciality qualification  years_of_experience       location  \\\n",
       "1176    Pediatrician          MBBS                 24.0  Richmond Town   \n",
       "1910    Psychiatrist          MBBS                 44.0         Hebbal   \n",
       "1911    Psychiatrist          MBBS                 28.0     Whitefield   \n",
       "1928    Psychiatrist          MBBS                 27.0         Hebbal   \n",
       "1935    Psychiatrist          MBBS                 22.0  Richmond Town   \n",
       "...              ...           ...                  ...            ...   \n",
       "5139   Pulmonologist          MBBS                 14.0          Mahim   \n",
       "5147  Rheumatologist          MBBS                 29.0          Parel   \n",
       "5152  Rheumatologist          MBBS                 12.0         Mumbai   \n",
       "5155  Rheumatologist          MBBS                 40.0         Mumbai   \n",
       "5157    Chiropractor        Others                 20.0         Mumbai   \n",
       "\n",
       "           city  dp_score%    npv  consultation_fee_₹  \n",
       "1176  Bangalore      100.0    0.0              1600.0  \n",
       "1910  Bangalore       91.0   12.0              2130.0  \n",
       "1911  Bangalore       85.0    8.0              1700.0  \n",
       "1928  Bangalore       85.0   91.0              2830.0  \n",
       "1935  Bangalore       99.0   81.0              1600.0  \n",
       "...         ...        ...    ...                 ...  \n",
       "5139     Mumbai      100.0   10.0              1800.0  \n",
       "5147     Mumbai      100.0    0.0              2100.0  \n",
       "5152     Mumbai       90.0   13.0              2000.0  \n",
       "5155     Mumbai       91.0    6.0              2500.0  \n",
       "5157     Mumbai      100.0  302.0              3000.0  \n",
       "\n",
       "[312 rows x 8 columns]"
      ]
     },
     "execution_count": 16,
     "metadata": {},
     "output_type": "execute_result"
    }
   ],
   "source": [
    "dr[dr['consultation_fee_₹']>1500]"
   ]
  },
  {
   "cell_type": "code",
   "execution_count": 17,
   "id": "573405b6",
   "metadata": {},
   "outputs": [
    {
     "data": {
      "text/plain": [
       "<AxesSubplot:xlabel='years_of_experience'>"
      ]
     },
     "execution_count": 17,
     "metadata": {},
     "output_type": "execute_result"
    },
    {
     "data": {
      "image/png": "[encoded data removed]",
      "text/plain": [
       "<Figure size 432x288 with 1 Axes>"
      ]
     },
     "metadata": {
      "needs_background": "light"
     },
     "output_type": "display_data"
    }
   ],
   "source": [
    "sns.boxplot(x = dr['years_of_experience'])"
   ]
  },
  {
   "cell_type": "markdown",
   "id": "3d586a94",
   "metadata": {},
   "source": [
    "### Building the model"
   ]
  },
  {
   "cell_type": "markdown",
   "id": "6ed01799",
   "metadata": {},
   "source": [
    "- **Extracting the independent and dependent variables**"
   ]
  },
  {
   "cell_type": "code",
   "execution_count": 18,
   "id": "ff2b7330",
   "metadata": {},
   "outputs": [],
   "source": [
    "X = dr.drop(columns=['consultation_fee_₹'])\n",
    "Y = dr['consultation_fee_₹']"
   ]
  },
  {
   "cell_type": "markdown",
   "id": "1c8e0210",
   "metadata": {},
   "source": [
    "- **Train Test split**"
   ]
  },
  {
   "cell_type": "code",
   "execution_count": 19,
   "id": "9840c606",
   "metadata": {},
   "outputs": [],
   "source": [
    "from sklearn.model_selection import train_test_split\n",
    "X_train,X_test,Y_train,Y_test=train_test_split(X,Y,test_size=0.1,random_state=401)"
   ]
  },
  {
   "cell_type": "markdown",
   "id": "140b6130",
   "metadata": {},
   "source": [
    "- **Importing sklearn**"
   ]
  },
  {
   "cell_type": "code",
   "execution_count": 20,
   "id": "0846a07f",
   "metadata": {},
   "outputs": [],
   "source": [
    "from sklearn.preprocessing import OneHotEncoder\n",
    "from sklearn.compose import make_column_transformer\n",
    "from sklearn.pipeline import make_pipeline\n",
    "from sklearn.metrics import r2_score,mean_absolute_error\n",
    "from sklearn.linear_model import LinearRegression"
   ]
  },
  {
   "cell_type": "markdown",
   "id": "409bebc7",
   "metadata": {},
   "source": [
    "- **Applying OHE and applying column transformer**"
   ]
  },
  {
   "cell_type": "code",
   "execution_count": 21,
   "id": "969ab6a6",
   "metadata": {},
   "outputs": [
    {
     "data": {
      "text/plain": [
       "OneHotEncoder()"
      ]
     },
     "execution_count": 21,
     "metadata": {},
     "output_type": "execute_result"
    }
   ],
   "source": [
    "ohe=OneHotEncoder()\n",
    "ohe.fit(X[['speciality','qualification','location','city']])"
   ]
  },
  {
   "cell_type": "code",
   "execution_count": 22,
   "id": "9a7ebc93",
   "metadata": {},
   "outputs": [],
   "source": [
    "col_transform=make_column_transformer((OneHotEncoder(categories=ohe.categories_, drop ='first' ),['speciality','qualification','location','city']),\n",
    "                                    remainder='passthrough')"
   ]
  },
  {
   "cell_type": "markdown",
   "id": "b9a54884",
   "metadata": {},
   "source": [
    "- **Implementing Linear Reg Model and making pipeline**"
   ]
  },
  {
   "cell_type": "code",
   "execution_count": 23,
   "id": "49cef3f2",
   "metadata": {},
   "outputs": [],
   "source": [
    "lr=LinearRegression()"
   ]
  },
  {
   "cell_type": "code",
   "execution_count": 24,
   "id": "0d01ba45",
   "metadata": {},
   "outputs": [],
   "source": [
    "pipe=make_pipeline(col_transform,lr)"
   ]
  },
  {
   "cell_type": "code",
   "execution_count": 25,
   "id": "7a7408f8",
   "metadata": {},
   "outputs": [
    {
     "data": {
      "text/plain": [
       "Pipeline(steps=[('columntransformer',\n",
       "                 ColumnTransformer(remainder='passthrough',\n",
       "                                   transformers=[('onehotencoder',\n",
       "                                                  OneHotEncoder(categories=[array(['Ayurveda', 'Bariatric Surgeon', 'Cardiologist', 'Chiropractor',\n",
       "       'Dentist', 'Dermatologist', 'Dietitian/Nutritionist',\n",
       "       'GastroIntestinal Surgeon', 'Gastroenterologist',\n",
       "       'General Physician', 'General Surgeon', 'Gynecologist...\n",
       "       'Wadala', 'Walkeshwar', 'West Of Chord Road',\n",
       "       'Wheelers Road (Cooke Town)', 'Whitefield', 'Wilson Garden',\n",
       "       'Worli', 'Yelachenahalli', 'Yelahanka', 'Yelahanka New Town',\n",
       "       'Yelenahalli', 'Yeshwanthpur', 'Zakir Nagar'], dtype=object),\n",
       "                                                                            array(['Bangalore', 'Delhi', 'Mumbai'], dtype=object)],\n",
       "                                                                drop='first'),\n",
       "                                                  ['speciality',\n",
       "                                                   'qualification', 'location',\n",
       "                                                   'city'])])),\n",
       "                ('linearregression', LinearRegression())])"
      ]
     },
     "execution_count": 25,
     "metadata": {},
     "output_type": "execute_result"
    }
   ],
   "source": [
    "pipe.fit(X_train,Y_train)"
   ]
  },
  {
   "cell_type": "markdown",
   "id": "3a7b66b0",
   "metadata": {},
   "source": [
    "- **Predicting and Evaluating Model Performance**"
   ]
  },
  {
   "cell_type": "code",
   "execution_count": 26,
   "id": "f74e5758",
   "metadata": {},
   "outputs": [],
   "source": [
    "Y_pred=pipe.predict(X_test)"
   ]
  },
  {
   "cell_type": "code",
   "execution_count": 27,
   "id": "0332fb1b",
   "metadata": {},
   "outputs": [
    {
     "name": "stdout",
     "output_type": "stream",
     "text": [
      "R2 score: 0.6680277900375959\n",
      "MAE: 180.8207781719015\n"
     ]
    }
   ],
   "source": [
    "print('R2 score:',r2_score(Y_test,Y_pred))\n",
    "print('MAE:',mean_absolute_error(Y_test,Y_pred))"
   ]
  },
  {
   "cell_type": "code",
   "execution_count": 28,
   "id": "15f7c7e7",
   "metadata": {},
   "outputs": [],
   "source": [
    "# rs=[]\n",
    "# for i in range(1000):\n",
    "#     X_train,X_test,Y_train,Y_test=train_test_split(X,Y,test_size=0.1,random_state=i)\n",
    "#     lr=LinearRegression()\n",
    "#     pipe=make_pipeline(col_transform,lr)\n",
    "#     pipe.fit(X_train,Y_train)\n",
    "#     Y_pred=pipe.predict(X_test)\n",
    "#     rs.append(r2_score(Y_test,Y_pred))"
   ]
  },
  {
   "cell_type": "code",
   "execution_count": 29,
   "id": "abfe5375",
   "metadata": {},
   "outputs": [],
   "source": [
    "# np.argmax(rs)"
   ]
  },
  {
   "cell_type": "code",
   "execution_count": 30,
   "id": "1b38a4db",
   "metadata": {},
   "outputs": [],
   "source": [
    "# rs[np.argmax(rs)]"
   ]
  },
  {
   "cell_type": "code",
   "execution_count": 31,
   "id": "c9a425b5",
   "metadata": {},
   "outputs": [],
   "source": [
    "# rs"
   ]
  },
  {
   "cell_type": "markdown",
   "id": "bfb5c190",
   "metadata": {},
   "source": [
    "### Exporting the Model"
   ]
  },
  {
   "cell_type": "code",
   "execution_count": 32,
   "id": "0410d8bd",
   "metadata": {},
   "outputs": [],
   "source": [
    "import pickle"
   ]
  },
  {
   "cell_type": "code",
   "execution_count": 33,
   "id": "80f509bd",
   "metadata": {},
   "outputs": [],
   "source": [
    "pickle.dump(pipe,open('dr_ml_model.pkl','wb'))"
   ]
  },
  {
   "cell_type": "code",
   "execution_count": 34,
   "id": "1ebe9dac",
   "metadata": {},
   "outputs": [],
   "source": [
    "dr.to_csv('dr_ml_model.csv',index=False)"
   ]
  },
  {
   "cell_type": "code",
   "execution_count": null,
   "id": "6630359f",
   "metadata": {},
   "outputs": [],
   "source": []
  }
 ],
 "metadata": {
  "kernelspec": {
   "display_name": "Python 3 (ipykernel)",
   "language": "python",
   "name": "python3"
  },
  "language_info": {
   "codemirror_mode": {
    "name": "ipython",
    "version": 3
   },
   "file_extension": ".py",
   "mimetype": "text/x-python",
   "name": "python",
   "nbconvert_exporter": "python",
   "pygments_lexer": "ipython3",
   "version": "3.9.12"
  }
 },
 "nbformat": 4,
 "nbformat_minor": 5
}
