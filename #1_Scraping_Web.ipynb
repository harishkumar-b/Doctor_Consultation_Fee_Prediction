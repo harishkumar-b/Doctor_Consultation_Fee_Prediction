{
 "cells": [
  {
   "cell_type": "markdown",
   "id": "efe191ed",
   "metadata": {},
   "source": [
    "# Scraping Web!"
   ]
  },
  {
   "cell_type": "markdown",
   "id": "5f38e462",
   "metadata": {},
   "source": [
    "### Importing requred libraries"
   ]
  },
  {
   "cell_type": "code",
   "execution_count": 1,
   "id": "5e2b11e4",
   "metadata": {},
   "outputs": [],
   "source": [
    "import pandas as pd\n",
    "import requests\n",
    "from bs4 import BeautifulSoup\n",
    "from math import ceil"
   ]
  },
  {
   "cell_type": "markdown",
   "id": "51410ab3",
   "metadata": {},
   "source": [
    "### Declaring key variables:"
   ]
  },
  {
   "cell_type": "code",
   "execution_count": 2,
   "id": "c30c3097",
   "metadata": {
    "scrolled": true
   },
   "outputs": [],
   "source": [
    "base='https://www.practo.com/'\n",
    "cities=['bangalore','delhi','mumbai']\n",
    "specialities=['dentist', 'gynecologist', 'pediatrician', 'orthopedist', 'dermatologist',\n",
    "              'physiotherapist', 'fertility-treatment/procedure', 'ophthalmologist','urologist',\n",
    "              'psychiatrist', 'neurosurgeon', 'cardiologist','dietitian-nutritionist', \n",
    "              'gastroenterologist', 'neurologist', 'pulmonologist','bariatric-surgery/procedure',\n",
    "              'rheumatologist', 'chiropractor']"
   ]
  },
  {
   "cell_type": "markdown",
   "id": "73bb54ac",
   "metadata": {},
   "source": [
    "### Storing features or column fields"
   ]
  },
  {
   "cell_type": "code",
   "execution_count": 3,
   "id": "91d3777a",
   "metadata": {},
   "outputs": [],
   "source": [
    "name=[]\n",
    "speciality=[]\n",
    "qualification=[]\n",
    "experience=[]\n",
    "location=[]\n",
    "city=[]\n",
    "dp_score=[]\n",
    "npv=[]\n",
    "consultation_fee=[]"
   ]
  },
  {
   "cell_type": "markdown",
   "id": "af97baa0",
   "metadata": {},
   "source": [
    "### Storing all URLs to be scraped"
   ]
  },
  {
   "cell_type": "code",
   "execution_count": 4,
   "id": "c9a6b73c",
   "metadata": {},
   "outputs": [
    {
     "name": "stdout",
     "output_type": "stream",
     "text": [
      "\n",
      "\n",
      "\n"
     ]
    }
   ],
   "source": [
    "URLs=[]\n",
    "for c in cities:\n",
    "    print()\n",
    "    for s in specialities:\n",
    "        URLs.append(base+c+'/'+s)"
   ]
  },
  {
   "cell_type": "markdown",
   "id": "a2a4df69",
   "metadata": {},
   "source": [
    "### Defining get_qualification() function"
   ]
  },
  {
   "cell_type": "code",
   "execution_count": 5,
   "id": "6ff95488",
   "metadata": {},
   "outputs": [],
   "source": [
    "def get_qualification(d):\n",
    "    base='https://www.practo.com/'\n",
    "    for a in d.find_all('a', href=True):\n",
    "        dp = a['href']\n",
    "        break\n",
    "    docpage=requests.get(base+dp).text\n",
    "    qualification = BeautifulSoup(docpage, 'lxml').find(\"p\",{'data-qa-id':\"doctor-qualifications\"}).text\n",
    "    return qualification"
   ]
  },
  {
   "cell_type": "markdown",
   "id": "db79e299",
   "metadata": {},
   "source": [
    "### Final Scraping from all URLs"
   ]
  },
  {
   "cell_type": "code",
   "execution_count": 7,
   "id": "cba78157",
   "metadata": {},
   "outputs": [
    {
     "ename": "AttributeError",
     "evalue": "'NoneType' object has no attribute 'text'",
     "output_type": "error",
     "traceback": [
      "\u001b[1;31m---------------------------------------------------------------------------\u001b[0m",
      "\u001b[1;31mAttributeError\u001b[0m                            Traceback (most recent call last)",
      "Input \u001b[1;32mIn [7]\u001b[0m, in \u001b[0;36m<cell line: 1>\u001b[1;34m()\u001b[0m\n\u001b[0;32m      2\u001b[0m search_results\u001b[38;5;241m=\u001b[39mrequests\u001b[38;5;241m.\u001b[39mget(an_url)\u001b[38;5;241m.\u001b[39mtext\n\u001b[0;32m      3\u001b[0m soup \u001b[38;5;241m=\u001b[39m BeautifulSoup(search_results, \u001b[38;5;124m'\u001b[39m\u001b[38;5;124mlxml\u001b[39m\u001b[38;5;124m'\u001b[39m)\n\u001b[1;32m----> 4\u001b[0m no_of_doctors\u001b[38;5;241m=\u001b[39m\u001b[38;5;28mint\u001b[39m(\u001b[43msoup\u001b[49m\u001b[38;5;241;43m.\u001b[39;49m\u001b[43mfind\u001b[49m\u001b[43m(\u001b[49m\u001b[38;5;124;43m'\u001b[39;49m\u001b[38;5;124;43mh1\u001b[39;49m\u001b[38;5;124;43m'\u001b[39;49m\u001b[43m)\u001b[49m\u001b[38;5;241;43m.\u001b[39;49m\u001b[43mtext\u001b[49m\u001b[38;5;241m.\u001b[39msplit()[\u001b[38;5;241m0\u001b[39m])\n\u001b[0;32m      5\u001b[0m \u001b[38;5;28;01mfor\u001b[39;00m page \u001b[38;5;129;01min\u001b[39;00m \u001b[38;5;28mrange\u001b[39m(ceil(no_of_doctors\u001b[38;5;241m/\u001b[39m\u001b[38;5;241m10\u001b[39m)):\n\u001b[0;32m      6\u001b[0m     URL\u001b[38;5;241m=\u001b[39man_url\u001b[38;5;241m+\u001b[39m\u001b[38;5;124m'\u001b[39m\u001b[38;5;124m?page=\u001b[39m\u001b[38;5;124m'\u001b[39m\u001b[38;5;241m+\u001b[39m\u001b[38;5;28mstr\u001b[39m(page)\n",
      "\u001b[1;31mAttributeError\u001b[0m: 'NoneType' object has no attribute 'text'"
     ]
    }
   ],
   "source": [
    "for an_url in URLs:\n",
    "    search_results=requests.get(an_url).text\n",
    "    soup = BeautifulSoup(search_results, 'lxml')\n",
    "    no_of_doctors=int(soup.find('h1').text.split()[0])\n",
    "    for page in range(ceil(no_of_doctors/10)):\n",
    "        URL=an_url+'?page='+str(page)\n",
    "        PAGES=requests.get(URL).text\n",
    "        SOUP= BeautifulSoup(PAGES, 'lxml')\n",
    "        doctors = SOUP.find_all('div',class_=\"listing-doctor-card\")\n",
    "        for doc in doctors:\n",
    "            try:\n",
    "                name.append(doc.find('h2').text)\n",
    "            except:\n",
    "                name.append(None)\n",
    "            \n",
    "            try:\n",
    "                speciality.append(doc.find('div', class_='u-grey_3-text').find(class_='u-d-flex').text)\n",
    "            except:\n",
    "                speciality.append(None)\n",
    "            \n",
    "            try:\n",
    "                qualification.append(get_qualification(doc))\n",
    "            except:\n",
    "                qualification.append(None)\n",
    "            \n",
    "            try:\n",
    "                experience.append(doc.find('div', class_='uv2-spacer--xs-top').text)\n",
    "            except:\n",
    "                experience.append(None)\n",
    "            \n",
    "            try:\n",
    "                location.append(doc.find_all('span')[3].text)\n",
    "            except:\n",
    "                location.append(None)\n",
    "            \n",
    "            try:\n",
    "                city.append(doc.find('span', class_=\"u-t-capitalize\").text)\n",
    "            except:\n",
    "                city.append(None)\n",
    "            \n",
    "            try:\n",
    "                dp_score.append(doc.find('span', {'data-qa-id' :\"doctor_recommendation\"}).text)\n",
    "            except:\n",
    "                dp_score.append(None)\n",
    "                \n",
    "            try:\n",
    "                npv.append(doc.find('span', {'data-qa-id':\"total_feedback\"}).text)\n",
    "            except:\n",
    "                npv.append(None)\n",
    "                \n",
    "            try:\n",
    "                consultation_fee.append(doc.find('span', {'data-qa-id' : 'consultation_fee'}).text)\n",
    "            except:\n",
    "                consultation_fee.append(None)\n"
   ]
  },
  {
   "cell_type": "markdown",
   "id": "5adeed4f",
   "metadata": {},
   "source": [
    "- **Optimizing loop error**"
   ]
  },
  {
   "cell_type": "code",
   "execution_count": 18,
   "id": "6c937ffa",
   "metadata": {},
   "outputs": [
    {
     "name": "stdout",
     "output_type": "stream",
     "text": [
      "https://www.practo.com/bangalore/dentist\n",
      "https://www.practo.com/bangalore/gynecologist\n",
      "https://www.practo.com/bangalore/pediatrician\n",
      "https://www.practo.com/bangalore/orthopedist\n",
      "https://www.practo.com/bangalore/dermatologist\n",
      "https://www.practo.com/bangalore/physiotherapist\n",
      "https://www.practo.com/bangalore/fertility-treatment/procedure\n",
      "https://www.practo.com/bangalore/ophthalmologist\n",
      "https://www.practo.com/bangalore/urologist\n",
      "https://www.practo.com/bangalore/psychiatrist\n",
      "https://www.practo.com/bangalore/neurosurgeon\n",
      "https://www.practo.com/bangalore/cardiologist\n",
      "https://www.practo.com/bangalore/dietitian-nutritionist\n",
      "https://www.practo.com/bangalore/gastroenterologist\n",
      "https://www.practo.com/bangalore/neurologist\n",
      "https://www.practo.com/bangalore/pulmonologist\n",
      "https://www.practo.com/bangalore/bariatric-surgery/procedure\n",
      "https://www.practo.com/bangalore/rheumatologist\n",
      "https://www.practo.com/bangalore/chiropractor\n",
      "https://www.practo.com/delhi/dentist\n",
      "https://www.practo.com/delhi/gynecologist\n",
      "https://www.practo.com/delhi/pediatrician\n",
      "https://www.practo.com/delhi/orthopedist\n",
      "https://www.practo.com/delhi/dermatologist\n",
      "https://www.practo.com/delhi/physiotherapist\n",
      "https://www.practo.com/delhi/fertility-treatment/procedure\n",
      "https://www.practo.com/delhi/ophthalmologist\n",
      "https://www.practo.com/delhi/urologist\n",
      "https://www.practo.com/delhi/psychiatrist\n",
      "https://www.practo.com/delhi/neurosurgeon\n",
      "https://www.practo.com/delhi/cardiologist\n",
      "https://www.practo.com/delhi/dietitian-nutritionist\n",
      "https://www.practo.com/delhi/gastroenterologist\n",
      "https://www.practo.com/delhi/neurologist\n",
      "https://www.practo.com/delhi/pulmonologist\n",
      "https://www.practo.com/delhi/bariatric-surgery/procedure\n",
      "https://www.practo.com/delhi/rheumatologist\n",
      "https://www.practo.com/delhi/chiropractor\n",
      "https://www.practo.com/mumbai/dentist\n",
      "https://www.practo.com/mumbai/gynecologist\n",
      "https://www.practo.com/mumbai/pediatrician\n",
      "https://www.practo.com/mumbai/orthopedist\n",
      "https://www.practo.com/mumbai/dermatologist\n",
      "https://www.practo.com/mumbai/physiotherapist\n",
      "https://www.practo.com/mumbai/fertility-treatment/procedure\n",
      "https://www.practo.com/mumbai/ophthalmologist\n",
      "https://www.practo.com/mumbai/urologist\n",
      "https://www.practo.com/mumbai/psychiatrist\n",
      "https://www.practo.com/mumbai/neurosurgeon\n",
      "https://www.practo.com/mumbai/cardiologist\n",
      "https://www.practo.com/mumbai/dietitian-nutritionist\n",
      "https://www.practo.com/mumbai/gastroenterologist\n",
      "https://www.practo.com/mumbai/neurologist\n",
      "https://www.practo.com/mumbai/pulmonologist\n",
      "https://www.practo.com/mumbai/bariatric-surgery/procedure\n",
      "https://www.practo.com/mumbai/rheumatologist\n",
      "https://www.practo.com/mumbai/chiropractor\n"
     ]
    }
   ],
   "source": [
    "for i in URLs:\n",
    "    print(i)"
   ]
  },
  {
   "cell_type": "code",
   "execution_count": 16,
   "id": "a0b5d51a",
   "metadata": {},
   "outputs": [
    {
     "data": {
      "text/plain": [
       "'Mumbai'"
      ]
     },
     "execution_count": 16,
     "metadata": {},
     "output_type": "execute_result"
    }
   ],
   "source": [
    "city[-1]"
   ]
  },
  {
   "cell_type": "code",
   "execution_count": 15,
   "id": "84f396dc",
   "metadata": {},
   "outputs": [
    {
     "data": {
      "text/plain": [
       "['Rheumatologist',\n",
       " 'Rheumatologist',\n",
       " 'Rheumatologist',\n",
       " 'Rheumatologist',\n",
       " 'Rheumatologist',\n",
       " 'Rheumatologist',\n",
       " 'Rheumatologist',\n",
       " 'Rheumatologist',\n",
       " 'Rheumatologist',\n",
       " 'Rheumatologist',\n",
       " 'Rheumatologist',\n",
       " 'Rheumatologist',\n",
       " 'Rheumatologist',\n",
       " 'General Surgeon']"
      ]
     },
     "execution_count": 15,
     "metadata": {},
     "output_type": "execute_result"
    }
   ],
   "source": [
    "speciality[-1:-15:-1]"
   ]
  },
  {
   "cell_type": "markdown",
   "id": "7e0b0859",
   "metadata": {},
   "source": [
    "   - **Hence, Chiropractor from Mumbai facing issue with range**"
   ]
  },
  {
   "cell_type": "code",
   "execution_count": 23,
   "id": "3e451652",
   "metadata": {},
   "outputs": [],
   "source": [
    "link=requests.get('https://www.practo.com/mumbai/chiropractor').text\n",
    "Soup= BeautifulSoup(link, 'lxml')\n",
    "doctors = Soup.find_all('div',class_=\"listing-doctor-card\")\n",
    "for doc in doctors:\n",
    "    try:\n",
    "        name.append(doc.find('h2').text)\n",
    "    except:\n",
    "        name.append(None)\n",
    "\n",
    "    try:\n",
    "        speciality.append(doc.find('div', class_='u-grey_3-text').find(class_='u-d-flex').text)\n",
    "    except:\n",
    "        speciality.append(None)\n",
    "\n",
    "    try:\n",
    "        qualification.append(get_qualification(doc))\n",
    "    except:\n",
    "        qualification.append(None)\n",
    "\n",
    "    try:\n",
    "        experience.append(doc.find('div', class_='uv2-spacer--xs-top').text)\n",
    "    except:\n",
    "        experience.append(None)\n",
    "\n",
    "    try:\n",
    "        location.append(doc.find_all('span')[3].text)\n",
    "    except:\n",
    "        location.append(None)\n",
    "\n",
    "    try:\n",
    "        city.append(doc.find('span', class_=\"u-t-capitalize\").text)\n",
    "    except:\n",
    "        city.append(None)\n",
    "\n",
    "    try:\n",
    "        dp_score.append(doc.find('span', {'data-qa-id' :\"doctor_recommendation\"}).text)\n",
    "    except:\n",
    "        dp_score.append(None)\n",
    "\n",
    "    try:\n",
    "        npv.append(doc.find('span', {'data-qa-id':\"total_feedback\"}).text)\n",
    "    except:\n",
    "        npv.append(None)\n",
    "\n",
    "    try:\n",
    "        consultation_fee.append(doc.find('span', {'data-qa-id' : 'consultation_fee'}).text)\n",
    "    except:\n",
    "        consultation_fee.append(None)\n"
   ]
  },
  {
   "cell_type": "markdown",
   "id": "0c6e07da",
   "metadata": {},
   "source": [
    "### Converting scraped data to dataframe"
   ]
  },
  {
   "cell_type": "code",
   "execution_count": 24,
   "id": "7d0b1f74",
   "metadata": {},
   "outputs": [
    {
     "name": "stdout",
     "output_type": "stream",
     "text": [
      "6036\n",
      "6036\n",
      "6036\n",
      "6036\n",
      "6036\n",
      "6036\n",
      "6036\n",
      "6036\n",
      "6036\n"
     ]
    }
   ],
   "source": [
    "all_features = [name,speciality,qualification, experience, location, city, dp_score,npv,consultation_fee]\n",
    "for f in all_features:\n",
    "    print(len(f))"
   ]
  },
  {
   "cell_type": "code",
   "execution_count": 26,
   "id": "37e11581",
   "metadata": {},
   "outputs": [
    {
     "data": {
      "text/html": [
       "<div>\n",
       "<style scoped>\n",
       "    .dataframe tbody tr th:only-of-type {\n",
       "        vertical-align: middle;\n",
       "    }\n",
       "\n",
       "    .dataframe tbody tr th {\n",
       "        vertical-align: top;\n",
       "    }\n",
       "\n",
       "    .dataframe thead th {\n",
       "        text-align: right;\n",
       "    }\n",
       "</style>\n",
       "<table border=\"1\" class=\"dataframe\">\n",
       "  <thead>\n",
       "    <tr style=\"text-align: right;\">\n",
       "      <th></th>\n",
       "      <th>dr_name</th>\n",
       "      <th>speciality</th>\n",
       "      <th>qualification</th>\n",
       "      <th>years_of_experience</th>\n",
       "      <th>location</th>\n",
       "      <th>city</th>\n",
       "      <th>dp_score%</th>\n",
       "      <th>npv</th>\n",
       "      <th>consultation_fee_₹</th>\n",
       "    </tr>\n",
       "  </thead>\n",
       "  <tbody>\n",
       "    <tr>\n",
       "      <th>0</th>\n",
       "      <td>Dr. Arati Sundar Rajan</td>\n",
       "      <td>Dentist</td>\n",
       "      <td>BDS</td>\n",
       "      <td>26 years experience overall</td>\n",
       "      <td>Basavanagudi,</td>\n",
       "      <td>Bangalore</td>\n",
       "      <td>97%</td>\n",
       "      <td>119 Patient Stories</td>\n",
       "      <td>₹450</td>\n",
       "    </tr>\n",
       "    <tr>\n",
       "      <th>1</th>\n",
       "      <td>Dr. Shantipriya Reddy</td>\n",
       "      <td>Dentist</td>\n",
       "      <td>BDS, MDS - Periodontics</td>\n",
       "      <td>32 years experience overall</td>\n",
       "      <td>Domlur,</td>\n",
       "      <td>Bangalore</td>\n",
       "      <td>93%</td>\n",
       "      <td>16 Patient Stories</td>\n",
       "      <td>₹300</td>\n",
       "    </tr>\n",
       "    <tr>\n",
       "      <th>2</th>\n",
       "      <td>Dr. Akshai Shetty</td>\n",
       "      <td>Dentist</td>\n",
       "      <td>BDS, MDS - Orthodontics</td>\n",
       "      <td>22 years experience overall</td>\n",
       "      <td>Jayanagar 9 Block,</td>\n",
       "      <td>Bangalore</td>\n",
       "      <td>97%</td>\n",
       "      <td>96 Patient Stories</td>\n",
       "      <td>₹650</td>\n",
       "    </tr>\n",
       "    <tr>\n",
       "      <th>3</th>\n",
       "      <td>Dr. Mir Sujath Ali</td>\n",
       "      <td>Dentist</td>\n",
       "      <td>BDS, MDS - Conservative Dentistry &amp; Endodontics</td>\n",
       "      <td>21 years experience overall</td>\n",
       "      <td>Jayanagar 9 Block,</td>\n",
       "      <td>Bangalore</td>\n",
       "      <td>98%</td>\n",
       "      <td>153 Patient Stories</td>\n",
       "      <td>₹650</td>\n",
       "    </tr>\n",
       "    <tr>\n",
       "      <th>4</th>\n",
       "      <td>Dr. Kiran Raj N</td>\n",
       "      <td>Dentist</td>\n",
       "      <td>BDS</td>\n",
       "      <td>13 years experience overall</td>\n",
       "      <td>Banaswadi,</td>\n",
       "      <td>Bangalore</td>\n",
       "      <td>100%</td>\n",
       "      <td>81 Patient Stories</td>\n",
       "      <td>₹400</td>\n",
       "    </tr>\n",
       "    <tr>\n",
       "      <th>...</th>\n",
       "      <td>...</td>\n",
       "      <td>...</td>\n",
       "      <td>...</td>\n",
       "      <td>...</td>\n",
       "      <td>...</td>\n",
       "      <td>...</td>\n",
       "      <td>...</td>\n",
       "      <td>...</td>\n",
       "      <td>...</td>\n",
       "    </tr>\n",
       "    <tr>\n",
       "      <th>6031</th>\n",
       "      <td>Dr. Neha Arora</td>\n",
       "      <td>Rheumatologist</td>\n",
       "      <td>MBBS, DNB - General Medicine, Fellowship in Rh...</td>\n",
       "      <td>17 years experience overall</td>\n",
       "      <td>Mumbai</td>\n",
       "      <td>Mumbai</td>\n",
       "      <td>None</td>\n",
       "      <td>None</td>\n",
       "      <td>₹500</td>\n",
       "    </tr>\n",
       "    <tr>\n",
       "      <th>6032</th>\n",
       "      <td>Dr. Nimish Nanawati</td>\n",
       "      <td>Rheumatologist</td>\n",
       "      <td>MBBS, MD - Rheumatology</td>\n",
       "      <td>40 years experience overall</td>\n",
       "      <td>Mumbai</td>\n",
       "      <td>Mumbai</td>\n",
       "      <td>91%</td>\n",
       "      <td>6 Patient Stories</td>\n",
       "      <td>₹2500</td>\n",
       "    </tr>\n",
       "    <tr>\n",
       "      <th>6033</th>\n",
       "      <td>Dr. RPS Hasija</td>\n",
       "      <td>Rheumatologist</td>\n",
       "      <td>Fellowship in Rheumatology, Graduate Certifica...</td>\n",
       "      <td>7 years experience overall</td>\n",
       "      <td>Mumbai</td>\n",
       "      <td>Mumbai</td>\n",
       "      <td>None</td>\n",
       "      <td>None</td>\n",
       "      <td>₹1500</td>\n",
       "    </tr>\n",
       "    <tr>\n",
       "      <th>6034</th>\n",
       "      <td>Dr. Kalpesh Ghelani</td>\n",
       "      <td>Chiropractor</td>\n",
       "      <td>Doctorate in Chiropractic</td>\n",
       "      <td>20 years experience overall</td>\n",
       "      <td>Mumbai</td>\n",
       "      <td>Mumbai</td>\n",
       "      <td>100%</td>\n",
       "      <td>302 Patient Stories</td>\n",
       "      <td>₹3000</td>\n",
       "    </tr>\n",
       "    <tr>\n",
       "      <th>6035</th>\n",
       "      <td>Dr. Shubham Kamble   (Physiotherapist)</td>\n",
       "      <td>Chiropractor</td>\n",
       "      <td>MPTh/MPT - Neurological Physiotherapy, Master ...</td>\n",
       "      <td>2 years experience overall</td>\n",
       "      <td>Mumbai</td>\n",
       "      <td>Mumbai</td>\n",
       "      <td>100%</td>\n",
       "      <td>23 Patient Stories</td>\n",
       "      <td>₹800</td>\n",
       "    </tr>\n",
       "  </tbody>\n",
       "</table>\n",
       "<p>6036 rows × 9 columns</p>\n",
       "</div>"
      ],
      "text/plain": [
       "                                     dr_name      speciality  \\\n",
       "0                     Dr. Arati Sundar Rajan         Dentist   \n",
       "1                      Dr. Shantipriya Reddy         Dentist   \n",
       "2                          Dr. Akshai Shetty         Dentist   \n",
       "3                         Dr. Mir Sujath Ali         Dentist   \n",
       "4                            Dr. Kiran Raj N         Dentist   \n",
       "...                                      ...             ...   \n",
       "6031                          Dr. Neha Arora  Rheumatologist   \n",
       "6032                     Dr. Nimish Nanawati  Rheumatologist   \n",
       "6033                          Dr. RPS Hasija  Rheumatologist   \n",
       "6034                     Dr. Kalpesh Ghelani    Chiropractor   \n",
       "6035  Dr. Shubham Kamble   (Physiotherapist)    Chiropractor   \n",
       "\n",
       "                                          qualification  \\\n",
       "0                                                   BDS   \n",
       "1                               BDS, MDS - Periodontics   \n",
       "2                               BDS, MDS - Orthodontics   \n",
       "3       BDS, MDS - Conservative Dentistry & Endodontics   \n",
       "4                                                   BDS   \n",
       "...                                                 ...   \n",
       "6031  MBBS, DNB - General Medicine, Fellowship in Rh...   \n",
       "6032                            MBBS, MD - Rheumatology   \n",
       "6033  Fellowship in Rheumatology, Graduate Certifica...   \n",
       "6034                          Doctorate in Chiropractic   \n",
       "6035  MPTh/MPT - Neurological Physiotherapy, Master ...   \n",
       "\n",
       "              years_of_experience            location       city dp_score%  \\\n",
       "0     26 years experience overall       Basavanagudi,  Bangalore      97%    \n",
       "1     32 years experience overall             Domlur,  Bangalore      93%    \n",
       "2     22 years experience overall  Jayanagar 9 Block,  Bangalore      97%    \n",
       "3     21 years experience overall  Jayanagar 9 Block,  Bangalore      98%    \n",
       "4     13 years experience overall          Banaswadi,  Bangalore     100%    \n",
       "...                           ...                 ...        ...       ...   \n",
       "6031  17 years experience overall              Mumbai     Mumbai      None   \n",
       "6032  40 years experience overall              Mumbai     Mumbai      91%    \n",
       "6033   7 years experience overall              Mumbai     Mumbai      None   \n",
       "6034  20 years experience overall              Mumbai     Mumbai     100%    \n",
       "6035   2 years experience overall              Mumbai     Mumbai     100%    \n",
       "\n",
       "                      npv consultation_fee_₹  \n",
       "0     119 Patient Stories               ₹450  \n",
       "1      16 Patient Stories               ₹300  \n",
       "2      96 Patient Stories               ₹650  \n",
       "3     153 Patient Stories               ₹650  \n",
       "4      81 Patient Stories               ₹400  \n",
       "...                   ...                ...  \n",
       "6031                 None               ₹500  \n",
       "6032    6 Patient Stories              ₹2500  \n",
       "6033                 None              ₹1500  \n",
       "6034  302 Patient Stories              ₹3000  \n",
       "6035   23 Patient Stories               ₹800  \n",
       "\n",
       "[6036 rows x 9 columns]"
      ]
     },
     "execution_count": 26,
     "metadata": {},
     "output_type": "execute_result"
    }
   ],
   "source": [
    "practo_doctors_df = pd.DataFrame({'dr_name':name,\n",
    "                   'speciality':speciality,\n",
    "                   'qualification':qualification,\n",
    "                   'years_of_experience':experience,\n",
    "                   'location':location,\n",
    "                   'city': city,\n",
    "                   'dp_score%': dp_score,\n",
    "                   'npv': npv,\n",
    "                   'consultation_fee_₹':consultation_fee})\n",
    "practo_doctors_df"
   ]
  },
  {
   "cell_type": "markdown",
   "id": "444fab4e",
   "metadata": {},
   "source": [
    "## Exporting dataframe into CSV file"
   ]
  },
  {
   "cell_type": "code",
   "execution_count": 36,
   "id": "33058e6c",
   "metadata": {},
   "outputs": [],
   "source": [
    "practo_doctors_df.to_csv('practo_doctors.csv',index=False)"
   ]
  }
 ],
 "metadata": {
  "kernelspec": {
   "display_name": "Python 3 (ipykernel)",
   "language": "python",
   "name": "python3"
  },
  "language_info": {
   "codemirror_mode": {
    "name": "ipython",
    "version": 3
   },
   "file_extension": ".py",
   "mimetype": "text/x-python",
   "name": "python",
   "nbconvert_exporter": "python",
   "pygments_lexer": "ipython3",
   "version": "3.9.12"
  }
 },
 "nbformat": 4,
 "nbformat_minor": 5
}
